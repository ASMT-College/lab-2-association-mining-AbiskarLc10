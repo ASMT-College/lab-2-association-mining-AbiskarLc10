{
  "nbformat": 4,
  "nbformat_minor": 0,
  "metadata": {
    "colab": {
      "provenance": [],
      "toc_visible": true
    },
    "kernelspec": {
      "name": "python3",
      "display_name": "Python 3"
    },
    "language_info": {
      "name": "python"
    }
  },
  "cells": [
    {
      "cell_type": "markdown",
      "source": [
        "# **Lab2: Association** **Mining**"
      ],
      "metadata": {
        "id": "3PNWJucf6h3R"
      }
    },
    {
      "cell_type": "code",
      "source": [
        "import pandas as pd\n",
        "from mlxtend.frequent_patterns import apriori,association_rules\n"
      ],
      "metadata": {
        "id": "B9okChmb6qXs"
      },
      "execution_count": null,
      "outputs": []
    },
    {
      "cell_type": "markdown",
      "source": [
        "**Loading Datasets**"
      ],
      "metadata": {
        "id": "plOlupM_-NOE"
      }
    },
    {
      "cell_type": "code",
      "source": [
        "data = {\n",
        "'TransactionID': [1, 2, 3, 4, 5],\n",
        "'Items': [\n",
        "['Bread', 'Milk'],\n",
        "['Bread', 'Diaper', 'Beer', 'Eggs'],\n",
        "['Milk', 'Diaper', 'Beer', 'Coke'],\n",
        "['Bread', 'Milk', 'Diaper', 'Beer'],\n",
        "['Bread', 'Milk', 'Diaper', 'Coke']\n",
        "]\n",
        "}"
      ],
      "metadata": {
        "id": "0ARKhvDz69XX"
      },
      "execution_count": null,
      "outputs": []
    },
    {
      "cell_type": "code",
      "source": [
        "df = pd.DataFrame(data)\n",
        "print(df)"
      ],
      "metadata": {
        "colab": {
          "base_uri": "https://localhost:8080/"
        },
        "id": "1aPm4U2T-ZjM",
        "outputId": "e6efc569-55e1-46ed-cb0c-0231ad28dd17"
      },
      "execution_count": null,
      "outputs": [
        {
          "output_type": "stream",
          "name": "stdout",
          "text": [
            "   TransactionID                        Items\n",
            "0              1                [Bread, Milk]\n",
            "1              2  [Bread, Diaper, Beer, Eggs]\n",
            "2              3   [Milk, Diaper, Beer, Coke]\n",
            "3              4  [Bread, Milk, Diaper, Beer]\n",
            "4              5  [Bread, Milk, Diaper, Coke]\n"
          ]
        }
      ]
    },
    {
      "cell_type": "code",
      "source": [
        "df_items = df['Items'].apply(lambda x: pd.Series(1, index=x)).fillna(0)\n",
        "print(\"\\n Data set for Apriori Algorithm \\n\",df_items)"
      ],
      "metadata": {
        "colab": {
          "base_uri": "https://localhost:8080/"
        },
        "id": "9n4edorm-d7z",
        "outputId": "a83b9f84-7fb3-49d4-a825-16aeac4fd12d"
      },
      "execution_count": null,
      "outputs": [
        {
          "output_type": "stream",
          "name": "stdout",
          "text": [
            "\n",
            " Data set for Apriori Algorithm \n",
            "    Bread  Milk  Diaper  Beer  Eggs  Coke\n",
            "0    1.0   1.0     0.0   0.0   0.0   0.0\n",
            "1    1.0   0.0     1.0   1.0   1.0   0.0\n",
            "2    0.0   1.0     1.0   1.0   0.0   1.0\n",
            "3    1.0   1.0     1.0   1.0   0.0   0.0\n",
            "4    1.0   1.0     1.0   0.0   0.0   1.0\n"
          ]
        }
      ]
    },
    {
      "cell_type": "markdown",
      "source": [
        "**Applying Apriori Algorithm to the datasets**"
      ],
      "metadata": {
        "id": "Hd8gqpefANs5"
      }
    },
    {
      "cell_type": "code",
      "source": [
        "frequent_itemsets = apriori(df_items,0.6,use_colnames=True)\n",
        "print(frequent_itemsets)"
      ],
      "metadata": {
        "colab": {
          "base_uri": "https://localhost:8080/"
        },
        "id": "FO01QP-GAaDG",
        "outputId": "e2391bf7-a2df-43d3-deb5-3bbbb1bb93d5"
      },
      "execution_count": null,
      "outputs": [
        {
          "output_type": "stream",
          "name": "stdout",
          "text": [
            "   support         itemsets\n",
            "0      0.8          (Bread)\n",
            "1      0.8           (Milk)\n",
            "2      0.8         (Diaper)\n",
            "3      0.6           (Beer)\n",
            "4      0.6    (Bread, Milk)\n",
            "5      0.6  (Bread, Diaper)\n",
            "6      0.6   (Milk, Diaper)\n",
            "7      0.6   (Beer, Diaper)\n"
          ]
        }
      ]
    },
    {
      "cell_type": "markdown",
      "source": [
        "**Generating Rules for the above calculation**"
      ],
      "metadata": {
        "id": "_Tw1ktFXBz0T"
      }
    },
    {
      "cell_type": "code",
      "source": [
        "rules = association_rules(frequent_itemsets, metric='confidence',min_threshold=0.7);\n",
        "print(\"\\n Association Rules : \\n\", rules)"
      ],
      "metadata": {
        "colab": {
          "base_uri": "https://localhost:8080/"
        },
        "id": "tRMjs3lGB76X",
        "outputId": "ff29366b-8e34-42bf-e89e-fbcdc1944456"
      },
      "execution_count": null,
      "outputs": [
        {
          "output_type": "stream",
          "name": "stdout",
          "text": [
            "\n",
            " Association Rules : \n",
            "   antecedents consequents  antecedent support  ...  jaccard  certainty  kulczynski\n",
            "0     (Bread)      (Milk)                 0.8  ...     0.60     -0.250       0.750\n",
            "1      (Milk)     (Bread)                 0.8  ...     0.60     -0.250       0.750\n",
            "2     (Bread)    (Diaper)                 0.8  ...     0.60     -0.250       0.750\n",
            "3    (Diaper)     (Bread)                 0.8  ...     0.60     -0.250       0.750\n",
            "4      (Milk)    (Diaper)                 0.8  ...     0.60     -0.250       0.750\n",
            "5    (Diaper)      (Milk)                 0.8  ...     0.60     -0.250       0.750\n",
            "6      (Beer)    (Diaper)                 0.6  ...     0.75      1.000       0.875\n",
            "7    (Diaper)      (Beer)                 0.8  ...     0.75      0.375       0.875\n",
            "\n",
            "[8 rows x 14 columns]\n"
          ]
        }
      ]
    },
    {
      "cell_type": "code",
      "source": [
        "for _,row in rules.iterrows():\n",
        "        print(f\"\\nRule: {set(row['antecedents'])} -> {set(row['consequents'])}\")\n",
        "        print(f\"Support: {row['support']:.2f}\")\n",
        "        print(f\"Confidence: {row['confidence']:.2f}\")\n",
        "        print(f\"Lift: {row['lift']:.2f}\")\n"
      ],
      "metadata": {
        "colab": {
          "base_uri": "https://localhost:8080/"
        },
        "id": "904uLEUyCZ6y",
        "outputId": "ad79cd50-df3f-44bf-b4af-533b514fe549"
      },
      "execution_count": null,
      "outputs": [
        {
          "output_type": "stream",
          "name": "stdout",
          "text": [
            "\n",
            "Rule: {'Bread'} -> {'Milk'}\n",
            "Support: 0.60\n",
            "Confidence: 0.75\n",
            "Lift: 0.94\n",
            "\n",
            "Rule: {'Milk'} -> {'Bread'}\n",
            "Support: 0.60\n",
            "Confidence: 0.75\n",
            "Lift: 0.94\n",
            "\n",
            "Rule: {'Bread'} -> {'Diaper'}\n",
            "Support: 0.60\n",
            "Confidence: 0.75\n",
            "Lift: 0.94\n",
            "\n",
            "Rule: {'Diaper'} -> {'Bread'}\n",
            "Support: 0.60\n",
            "Confidence: 0.75\n",
            "Lift: 0.94\n",
            "\n",
            "Rule: {'Milk'} -> {'Diaper'}\n",
            "Support: 0.60\n",
            "Confidence: 0.75\n",
            "Lift: 0.94\n",
            "\n",
            "Rule: {'Diaper'} -> {'Milk'}\n",
            "Support: 0.60\n",
            "Confidence: 0.75\n",
            "Lift: 0.94\n",
            "\n",
            "Rule: {'Beer'} -> {'Diaper'}\n",
            "Support: 0.60\n",
            "Confidence: 1.00\n",
            "Lift: 1.25\n",
            "\n",
            "Rule: {'Diaper'} -> {'Beer'}\n",
            "Support: 0.60\n",
            "Confidence: 0.75\n",
            "Lift: 1.25\n"
          ]
        }
      ]
    },
    {
      "cell_type": "markdown",
      "source": [],
      "metadata": {
        "id": "DbIz6jFd-ZIw"
      }
    }
  ]
}